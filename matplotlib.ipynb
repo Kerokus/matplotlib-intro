{
 "cells": [
  {
   "cell_type": "code",
   "execution_count": null,
   "metadata": {},
   "outputs": [],
   "source": [
    "import matplotlib.pyplot as plt"
   ]
  },
  {
   "cell_type": "code",
   "execution_count": null,
   "metadata": {},
   "outputs": [],
   "source": [
    "# Data\n",
    "x = [1, 2, 3, 4, 5]\n",
    "y = [2, 3, 5, 7, 11]\n",
    "\n",
    "# Plotting the data\n",
    "plt.plot(x, y)\n",
    "\n",
    "# Displaying the plot\n",
    "plt.show()"
   ]
  },
  {
   "cell_type": "code",
   "execution_count": null,
   "metadata": {},
   "outputs": [],
   "source": [
    "# Plotting the data\n",
    "plt.plot(x, y)\n",
    "\n",
    "# Adding a title\n",
    "plt.title('Sample Line Plot')\n",
    "\n",
    "# Adding labels to the axes\n",
    "plt.xlabel('X Axis')\n",
    "plt.ylabel('Y Axis')\n",
    "\n",
    "# Displaying the plot\n",
    "plt.show()"
   ]
  },
  {
   "cell_type": "code",
   "execution_count": null,
   "metadata": {},
   "outputs": [],
   "source": [
    "# Random data points\n",
    "x = [5, 2, 9, 4, 7]\n",
    "y = [10, 5, 8, 4, 2]\n",
    "\n",
    "# Creating the scatter plot\n",
    "plt.scatter(x, y)\n",
    "\n",
    "# Adding title and labels\n",
    "plt.title('Sample Scatter Plot')\n",
    "plt.xlabel('X Axis')\n",
    "plt.ylabel('Y Axis')\n",
    "\n",
    "# Displaying the plot\n",
    "plt.show()"
   ]
  },
  {
   "cell_type": "code",
   "execution_count": null,
   "metadata": {},
   "outputs": [],
   "source": [
    "# Categories and values\n",
    "categories = ['Red', 'Blue', 'Green', 'Purple']\n",
    "values = [10, 15, 7, 5]\n",
    "\n",
    "# Creating the bar chart\n",
    "plt.bar(categories, values)\n",
    "\n",
    "# Adding title and labels\n",
    "plt.title('Simple Bar Chart')\n",
    "plt.xlabel('Categories')\n",
    "plt.ylabel('Values')\n",
    "\n",
    "# Displaying the plot\n",
    "plt.show()"
   ]
  },
  {
   "cell_type": "code",
   "execution_count": null,
   "metadata": {},
   "outputs": [],
   "source": [
    "# Data\n",
    "x = [1, 2, 3, 4, 5]\n",
    "y = [2, 3, 5, 7, 11]\n",
    "\n",
    "# Plotting with a specific color and marker\n",
    "plt.plot(x, y, marker='s', color='green')  # 's' stands for square marker\n",
    "\n",
    "# Adding title and labels\n",
    "plt.title('Colorful Plot with Square Markers')\n",
    "plt.xlabel('X Axis')\n",
    "plt.ylabel('Y Axis')\n",
    "\n",
    "# Displaying the plot\n",
    "plt.show()"
   ]
  },
  {
   "cell_type": "code",
   "execution_count": null,
   "metadata": {},
   "outputs": [],
   "source": [
    "# Plotting with a dashed line\n",
    "plt.plot(x, y, linestyle='--', color='red')  # '--' for dashed line\n",
    "\n",
    "# Adding a title and labels\n",
    "plt.title('Dashed Line Plot')\n",
    "plt.xlabel('X Axis')\n",
    "plt.ylabel('Y Axis')\n",
    "\n",
    "# Displaying the plot\n",
    "plt.show()"
   ]
  },
  {
   "cell_type": "code",
   "execution_count": null,
   "metadata": {},
   "outputs": [],
   "source": [
    "# Plotting with a blue line with circle points\n",
    "plt.plot(x, y, marker='o', color='blue')\n",
    "\n",
    "# Annotation to highlight key points\n",
    "# xy= is which data point the arrow points to\n",
    "# xytext= is the location of the text and starting point of the arrow\n",
    "# arrowprops= is a dictionary that controls how the arrow looks\n",
    "plt.annotate('Arrow Here', xy=(x[2], y[2]), xytext=(x[2]-1, y[2]+3),\n",
    "             arrowprops=dict(facecolor='black', shrink=0.1),\n",
    "             fontsize=16, color='red')\n",
    "\n",
    "# Adding title and labels\n",
    "plt.title('Plot with Text Annotation')\n",
    "plt.xlabel('X Axis')\n",
    "plt.ylabel('Y Axis')\n",
    "\n",
    "# Displaying the plot\n",
    "plt.show()"
   ]
  },
  {
   "cell_type": "code",
   "execution_count": null,
   "metadata": {},
   "outputs": [],
   "source": [
    "# Enabling grid lines\n",
    "plt.plot(x, y, color='purple')\n",
    "plt.grid(True)  # Turns on the grid\n",
    "\n",
    "# Adding title and labels\n",
    "plt.title('Plot with Grid Lines')\n",
    "plt.xlabel('X Axis')\n",
    "plt.ylabel('Y Axis')\n",
    "\n",
    "# Displaying the plot\n",
    "plt.show()"
   ]
  }
 ],
 "metadata": {
  "kernelspec": {
   "display_name": "Python 3",
   "language": "python",
   "name": "python3"
  },
  "language_info": {
   "codemirror_mode": {
    "name": "ipython",
    "version": 3
   },
   "file_extension": ".py",
   "mimetype": "text/x-python",
   "name": "python",
   "nbconvert_exporter": "python",
   "pygments_lexer": "ipython3",
   "version": "3.12.3"
  }
 },
 "nbformat": 4,
 "nbformat_minor": 2
}
