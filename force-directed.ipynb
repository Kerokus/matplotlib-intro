{
 "cells": [
  {
   "cell_type": "code",
   "execution_count": 2,
   "metadata": {},
   "outputs": [],
   "source": [
    "import networkx as nx\n",
    "import matplotlib.pyplot as plt"
   ]
  },
  {
   "cell_type": "code",
   "execution_count": null,
   "metadata": {},
   "outputs": [],
   "source": [
    "# Create a graph\n",
    "G = nx.karate_club_graph()  # Example graph, you can create your own\n",
    "\n",
    "# Position nodes using the Fruchterman-Reingold force-directed algorithm\n",
    "pos = nx.spring_layout(G)  # The spring layout is similar to Force Atlas\n",
    "\n",
    "# Draw the graph\n",
    "plt.figure(figsize=(10, 10))\n",
    "nx.draw(G, pos, with_labels=True, node_size=700, node_color=\"skyblue\",\n",
    "        font_size=10, font_weight=\"bold\", edge_color=\"black\")\n",
    "plt.title(\"Force-Directed Graph (Spring Layout)\")\n",
    "plt.show()"
   ]
  }
 ],
 "metadata": {
  "kernelspec": {
   "display_name": "Python 3",
   "language": "python",
   "name": "python3"
  },
  "language_info": {
   "codemirror_mode": {
    "name": "ipython",
    "version": 3
   },
   "file_extension": ".py",
   "mimetype": "text/x-python",
   "name": "python",
   "nbconvert_exporter": "python",
   "pygments_lexer": "ipython3",
   "version": "3.12.3"
  }
 },
 "nbformat": 4,
 "nbformat_minor": 2
}
